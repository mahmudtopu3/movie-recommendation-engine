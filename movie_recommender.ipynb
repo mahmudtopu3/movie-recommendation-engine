{
  "nbformat": 4,
  "nbformat_minor": 0,
  "metadata": {
    "colab": {
      "name": "movie-recommender.ipynb",
      "provenance": [],
      "collapsed_sections": []
    },
    "kernelspec": {
      "name": "python3",
      "display_name": "Python 3"
    },
    "language_info": {
      "name": "python"
    }
  },
  "cells": [
    {
      "cell_type": "markdown",
      "source": [
        "A IMDB dataset based movie recommendation engine powered by Python Sci-kit Learn"
      ],
      "metadata": {
        "id": "OPFYBS2XhWlw"
      }
    },
    {
      "cell_type": "code",
      "execution_count": 5,
      "metadata": {
        "colab": {
          "base_uri": "https://localhost:8080/"
        },
        "id": "xmcWxGdhFh5D",
        "outputId": "53b615d5-5303-42f3-d11f-6b51a2452951"
      },
      "outputs": [
        {
          "output_type": "stream",
          "name": "stdout",
          "text": [
            "Requirement already satisfied: scikit-learn in /usr/local/lib/python3.7/dist-packages (1.0.2)\n",
            "Requirement already satisfied: joblib>=0.11 in /usr/local/lib/python3.7/dist-packages (from scikit-learn) (1.1.0)\n",
            "Requirement already satisfied: numpy>=1.14.6 in /usr/local/lib/python3.7/dist-packages (from scikit-learn) (1.21.6)\n",
            "Requirement already satisfied: threadpoolctl>=2.0.0 in /usr/local/lib/python3.7/dist-packages (from scikit-learn) (3.1.0)\n",
            "Requirement already satisfied: scipy>=1.1.0 in /usr/local/lib/python3.7/dist-packages (from scikit-learn) (1.4.1)\n",
            "[[1.  0.8]\n",
            " [0.8 1. ]]\n"
          ]
        }
      ],
      "source": [
        "!pip install scikit-learn\n"
      ]
    },
    {
      "cell_type": "code",
      "source": [
        "from sklearn.feature_extraction.text import CountVectorizer\n",
        "from sklearn.metrics.pairwise import cosine_similarity\n",
        "\n",
        "text = [\"django developer\",\"django react developer\"]\n",
        "cv = CountVectorizer()\n",
        "\n",
        "count_matrix = cv.fit_transform(text)\n",
        "\n",
        "#print count_matrix.toarray()\n",
        "similarity_scores = cosine_similarity(count_matrix)\n",
        "print(\"Count Matrix in array\")\n",
        "print(count_matrix.toarray())\n",
        "print(\"======= similarities with iteselfs and others in a list 100% to itself and 63% to second\")\n",
        "print(similarity_scores)\n",
        "print(\"=======\")\n",
        "print(similarity_scores[0][1]*100)"
      ],
      "metadata": {
        "colab": {
          "base_uri": "https://localhost:8080/"
        },
        "id": "M7Ww2WW_GLzE",
        "outputId": "1c753821-ca4d-4526-f17d-762152cbeaed"
      },
      "execution_count": 61,
      "outputs": [
        {
          "output_type": "stream",
          "name": "stdout",
          "text": [
            "Count Matrix in array\n",
            "[[1 1 0]\n",
            " [1 1 1]]\n",
            "======= similarities with iteselfs and others in a list 100% to itself and 63% to second\n",
            "[[1.         0.81649658]\n",
            " [0.81649658 1.        ]]\n",
            "=======\n",
            "81.6496580927726\n"
          ]
        }
      ]
    },
    {
      "cell_type": "code",
      "source": [
        "import pandas as pd\n",
        "import numpy as np\n",
        "from sklearn.feature_extraction.text import CountVectorizer\n",
        "from sklearn.metrics.pairwise import cosine_similarity\n",
        "###### helper functions #######\n",
        "def get_title_from_index(index):\n",
        "\treturn df[df.index == index][\"title\"].values[0]\n",
        "\n",
        "def get_index_from_title(title):\n",
        "\treturn df[df.title == title][\"index\"].values[0]\n",
        "\n",
        "df = pd.read_csv(\"/content/movie_dataset.csv\")\n",
        "\n",
        "df.columns\n",
        "#select features from which we will need recomendations\n",
        "features = ['keywords','cast','genres','director']\n",
        "df.head()\n",
        "df['keywords']\n",
        "\n",
        "#filling up NaN values with empty string of features (columns)\n",
        "for feature in features:\n",
        "\tdf[feature] = df[feature].fillna('')\n",
        " \n",
        "#creat a single column concatanating all featues\n",
        "def combine_features(row):\n",
        "\ttry:\n",
        "\t\treturn row['keywords'] +\" \"+row['cast']+\" \"+row[\"genres\"]+\" \"+row[\"director\"]\n",
        "\texcept:\n",
        "\t\tprint (\"Error:\", row)\t\n",
        "\n",
        "# after creating new column , call the combine_features funciton to insert it's values column wise (axis 1)\n",
        "df[\"combined_features\"] = df.apply(combine_features,axis=1)\n",
        "\n",
        "\n",
        "df[\"combined_features\"].head()\n",
        "\n",
        "#inialized object to vectorize the features \n",
        "cv = CountVectorizer()\n",
        "\n",
        "#it will create a matrix of combined features with words counting use count_matrix.toarray() to see the outputs in a human readable manner \n",
        "count_matrix = cv.fit_transform(df[\"combined_features\"])\n",
        "# print(count_matrix)\n",
        "# now find the cosine similarities of the above matrix example  a list of movies of scores including comparison with itself 1.0 05 .8 .2 etc...  \n",
        "cosine_sim = cosine_similarity(count_matrix)  \n",
        "# print(cosine_sim)\n",
        "\n",
        "\n",
        "#movie for which we need similar movies\n",
        "movie_name = \"Batman\"\n",
        "\n",
        "#getting the index number from name\n",
        "movie_index = get_index_from_title(movie_name)\n",
        "\n",
        "#making a list of movies with index and scores\n",
        "similar_movies =  list(enumerate(cosine_sim[movie_index]))\n",
        "# print(similar_movies)\n",
        "\n",
        "#sort the similar movies in reverse order\n",
        "sorted_similar_movies = sorted(similar_movies,key=lambda x:x[1],reverse=True)\n",
        "\n",
        "\n",
        "i=0\n",
        "for element in sorted_similar_movies:\n",
        "    print(element[0])\n",
        "    print(get_title_from_index(element[0]))\n",
        "    i=i+1\n",
        "    if i>50:  \n",
        "      break"
      ],
      "metadata": {
        "colab": {
          "base_uri": "https://localhost:8080/"
        },
        "id": "b-t-O7NSTeMK",
        "outputId": "b3a9c0f2-6da5-4087-a92c-7d6529298eeb"
      },
      "execution_count": 65,
      "outputs": [
        {
          "output_type": "stream",
          "name": "stdout",
          "text": [
            "1359\n",
            "Batman\n",
            "428\n",
            "Batman Returns\n",
            "210\n",
            "Batman & Robin\n",
            "3\n",
            "The Dark Knight Rises\n",
            "65\n",
            "The Dark Knight\n",
            "119\n",
            "Batman Begins\n",
            "753\n",
            "The Sentinel\n",
            "2530\n",
            "Beetlejuice\n",
            "1035\n",
            "Jonah Hex\n",
            "2635\n",
            "Funny Games\n",
            "813\n",
            "Superman\n",
            "4638\n",
            "Amidst the Devil's Wings\n",
            "14\n",
            "Man of Steel\n",
            "4065\n",
            "Mi America\n",
            "2793\n",
            "The Killer Inside Me\n",
            "1803\n",
            "Blood and Wine\n",
            "2047\n",
            "Megiddo: The Omega Code 2\n",
            "2655\n",
            "Dungeons & Dragons: Wrath of the Dragon God\n",
            "3637\n",
            "Kill the Messenger\n",
            "278\n",
            "Planet of the Apes\n",
            "215\n",
            "Fantastic 4: Rise of the Silver Surfer\n",
            "1009\n",
            "The Bone Collector\n",
            "2313\n",
            "The Mask\n",
            "2858\n",
            "The Postman Always Rings Twice\n",
            "3372\n",
            "Split Second\n",
            "3630\n",
            "Jekyll and Hyde ... Together Again\n",
            "3774\n",
            "Red State\n",
            "207\n",
            "Total Recall\n",
            "299\n",
            "Batman Forever\n",
            "1512\n",
            "A History of Violence\n",
            "1792\n",
            "Pain & Gain\n",
            "2029\n",
            "Underworld\n",
            "3854\n",
            "Batman: The Dark Knight Returns, Part 2\n",
            "4675\n",
            "The Grace Card\n",
            "3306\n",
            "Code of Honor\n",
            "1827\n",
            "Teenage Mutant Ninja Turtles II: The Secret of the Ooze\n",
            "5\n",
            "Spider-Man 3\n",
            "2108\n",
            "Edward Scissorhands\n",
            "3326\n",
            "Black November\n",
            "3359\n",
            "In Too Deep\n",
            "4105\n",
            "The Book of Mormon Movie, Volume 1: The Journey\n",
            "30\n",
            "Spider-Man 2\n",
            "473\n",
            "Mars Attacks!\n",
            "665\n",
            "Lucky Numbers\n",
            "1503\n",
            "Takers\n",
            "3921\n",
            "Woman Thou Art Loosed\n",
            "4256\n",
            "Checkmate\n",
            "72\n",
            "Suicide Squad\n",
            "3971\n",
            "Iguana\n",
            "1720\n",
            "Kick-Ass\n",
            "3873\n",
            "Class of 1984\n"
          ]
        }
      ]
    }
  ]
}